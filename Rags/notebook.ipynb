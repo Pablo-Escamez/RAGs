{
 "cells": [
  {
   "cell_type": "markdown",
   "id": "f2edba47-9e2e-476e-9f2f-fb177b329063",
   "metadata": {},
   "source": [
    "![A car dashboard with lots of new technical features.](images/dashboard.jpg)\n",
    "\n",
    "You're working for a well-known car manufacturer who is looking at implementing LLMs into vehicles to provide guidance to drivers. You've been asked to experiment with integrating car manuals with an LLM to create a context-aware chatbot. They hope that this context-aware LLM can be hooked up to a text-to-speech software to read the model's response aloud.\n",
    "\n",
    "As a proof of concept, you'll integrate several pages from a car manual that contains car warning messages and their meanings and recommended actions. This particular manual, stored as an HTML file, `mg-zs-warning-messages.html`, is from an MG ZS, a compact SUV. Armed with your newfound knowledge of LLMs and LangChain, you'll implement Retrieval Augmented Generation (RAG) to create the context-aware chatbot.\n",
    "\n",
    "## Before you start\n",
    "\n",
    "In order to complete the project you will need to create a developer account with OpenAI and store your API key as a secure environment variable. Instructions for these steps are outlined below.\n",
    "\n",
    "### Create a developer account with OpenAI\n",
    "\n",
    "1. Go to the [API signup page](https://platform.openai.com/signup). \n",
    "\n",
    "2. Create your account (you'll need to provide your email address and your phone number).\n",
    "\n",
    "3. Go to the [API keys page](https://platform.openai.com/account/api-keys). \n",
    "\n",
    "4. Create a new secret key.\n",
    "\n",
    "<img src=\"images/openai-new-secret-key.png\" width=\"200\">\n",
    "\n",
    "5. **Take a copy of it**. (If you lose it, delete the key and create a new one.)\n",
    "\n",
    "### Add a payment method\n",
    "\n",
    "OpenAI sometimes provides free credits for the API, but this can vary depending on geography. You may need to add debit/credit card details. \n",
    "\n",
    "**This project should cost much less than 1 US cents with `gpt-4o-mini` (but if you rerun tasks, you will be charged every time).**\n",
    "\n",
    "1. Go to the [Payment Methods page](https://platform.openai.com/account/billing/payment-methods).\n",
    "\n",
    "2. Click Add payment method.\n",
    "\n",
    "<img src=\"images/openai-add-payment-method.png\" width=\"200\">\n",
    "\n",
    "3. Fill in your card details.\n",
    "\n",
    "### Add an environmental variable with your OpenAI key\n",
    "\n",
    "1. In the workbook, click on \"Environment,\" in the top toolbar and select \"Environment variables\".\n",
    "\n",
    "2. Click \"Add\" to add environment variables.\n",
    "\n",
    "3. In the \"Name\" field, type \"OPENAI_API_KEY\". In the \"Value\" field, paste in your secret key.\n",
    "\n",
    "<img src=\"images/datalab-env-var-details.png\" width=\"500\">\n",
    "\n",
    "4. Click \"Create\", then you'll see the following pop-up window. Click \"Connect,\" then wait 5-10 seconds for the kernel to restart, or restart it manually in the Run menu.\n",
    "\n",
    "<img src=\"images/connect-integ.png\" width=\"500\">\n",
    "\n",
    "### Update to Python 3.10\n",
    "\n",
    "Due to how frequently the libraries required for this project are updated, you'll need to update your environment to Python 3.10:\n",
    "\n",
    "1. In the workbook, click on \"Environment,\" in the top toolbar and select \"Session details\".\n",
    "\n",
    "2. In the workbook language dropdown, select \"Python 3.10\".\n",
    "\n",
    "3. Click \"Confirm\" and hit \"Done\" once the session is ready."
   ]
  },
  {
   "cell_type": "code",
   "execution_count": 47,
   "id": "61baf413-6464-4c1c-a52d-b3764c124602",
   "metadata": {
    "executionCancelledAt": null,
    "executionTime": 47,
    "lastExecutedAt": 1739294456153,
    "lastExecutedByKernel": "02f7dfcf-2e3b-45c9-bdd9-f4b170d89f8d",
    "lastScheduledRunId": null,
    "lastSuccessfullyExecutedCode": "# Set your API key to a variable\nimport os\nopenai_api_key = os.environ[\"MY_VARIABLE_NAME\"]\n\n# Import the required packages\nfrom langchain_core.prompts import ChatPromptTemplate\nfrom langchain_openai import ChatOpenAI\nfrom langchain_community.document_loaders import UnstructuredHTMLLoader\nfrom langchain_openai import OpenAIEmbeddings\nfrom langchain_core.runnables import RunnablePassthrough\nfrom langchain_text_splitters import RecursiveCharacterTextSplitter\nfrom langchain_chroma import Chroma"
   },
   "outputs": [],
   "source": [
    "# Set your API key to a variable\n",
    "import os\n",
    "openai_api_key = os.environ[\"MY_VARIABLE_NAME\"]\n",
    "\n",
    "# Import the required packages\n",
    "from langchain_core.prompts import ChatPromptTemplate\n",
    "from langchain_openai import ChatOpenAI\n",
    "from langchain_community.document_loaders import UnstructuredHTMLLoader\n",
    "from langchain_openai import OpenAIEmbeddings\n",
    "from langchain_core.runnables import RunnablePassthrough\n",
    "from langchain_text_splitters import RecursiveCharacterTextSplitter\n",
    "from langchain_chroma import Chroma"
   ]
  },
  {
   "cell_type": "code",
   "execution_count": 48,
   "id": "bed58c70-1315-409c-a590-a4c7af3cad80",
   "metadata": {
    "executionCancelledAt": null,
    "executionTime": 48,
    "lastExecutedAt": 1739294456201,
    "lastExecutedByKernel": "02f7dfcf-2e3b-45c9-bdd9-f4b170d89f8d",
    "lastScheduledRunId": null,
    "lastSuccessfullyExecutedCode": "# Load the HTML as a LangChain document loader\nloader = UnstructuredHTMLLoader(file_path=\"data/mg-zs-warning-messages.html\")\ncar_docs = loader.load()"
   },
   "outputs": [],
   "source": [
    "# Load the HTML as a LangChain document loader\n",
    "loader = UnstructuredHTMLLoader(file_path=\"data/mg-zs-warning-messages.html\")\n",
    "car_docs = loader.load()"
   ]
  },
  {
   "cell_type": "code",
   "execution_count": 49,
   "id": "5e4cea43-bd09-4b99-9ccf-3cb56beb2e95",
   "metadata": {
    "executionCancelledAt": null,
    "executionTime": 52,
    "lastExecutedAt": 1739294456253,
    "lastExecutedByKernel": "02f7dfcf-2e3b-45c9-bdd9-f4b170d89f8d",
    "lastScheduledRunId": null,
    "lastSuccessfullyExecutedCode": "splitter = RecursiveCharacterTextSplitter(chunk_size=1000, chunk_overlap=200)\nchunks = splitter.split_documents(car_docs)"
   },
   "outputs": [],
   "source": [
    "splitter = RecursiveCharacterTextSplitter(chunk_size=1000, chunk_overlap=200)\n",
    "chunks = splitter.split_documents(car_docs)"
   ]
  },
  {
   "cell_type": "code",
   "execution_count": 50,
   "id": "efb2fc36-f220-4aa1-8521-7b9c545793b2",
   "metadata": {
    "executionCancelledAt": null,
    "executionTime": 48,
    "lastExecutedAt": 1739294456301,
    "lastExecutedByKernel": "02f7dfcf-2e3b-45c9-bdd9-f4b170d89f8d",
    "lastScheduledRunId": null,
    "lastSuccessfullyExecutedCode": "print(chunks)",
    "outputsMetadata": {
     "0": {
      "height": 616,
      "type": "stream"
     }
    }
   },
   "outputs": [
    {
     "name": "stdout",
     "output_type": "stream",
     "text": [
      "[Document(metadata={'source': 'data/mg-zs-warning-messages.html'}, page_content='Warning Message Procedure Cruise Control Fault Indicates that the cruise control system has detected a fault. Please consult an MG Authorised Repairer as soon as possible. Active Speed Limiter Fault Indicates that the active speed limit system has detected a fault. Contact an MG Authorised Repairer as soon as possible. Engine Coolant Temperature High High engine coolant temperature could result in severe damage. As soon as conditions permit, safely stop the vehicle and switch off the engine and contact an MG Authorised Repairer immediately. Engine Coolant Temperature Sensor Fault Indicates that the engine coolant temperature sensor has failed. As soon as conditions permit, safely stop the vehicle and switch off the engine and contact an MG Authorised Repairer immediately.'), Document(metadata={'source': 'data/mg-zs-warning-messages.html'}, page_content='Warning Message Procedure Low Oil Pressure Indicates that the oil pressure is too low, which may result in severe engine damage. As soon as safety permits, stop the car, switch off the engine and check the engine oil level. Contact an MG Authorised Repairer as soon as possible. Engine Fault Indicates that a failure has occurred that will effect engine performance and emissions. Contact an MG Authorised Repairer as soon as possible. Check Engine Indicates that a failure has occurred that may severely damage the engine. As soon as conditions permit, safely stop the vehicle , switch off the engine and contact an MG Authorised Repairer immediately.'), Document(metadata={'source': 'data/mg-zs-warning-messages.html'}, page_content='Warning Message Procedure Stop Start System Fault Indicates that the Stop/Start intelligent fuel saving system has detected a fault. Please consult an MG Authorised Repairer as soon as possible. Clutch Switch Fault Indicates that the clutch switch has detected a fault. Please consult an MG Authorised Repairer as soon as possible. Gasoline Particular Filter Full Indicates that the gasoline particular filter is full. Please consult an MG Authorised Repairer as soon as possible. Ignition System Fault Indicates that the ignition system has detected a fault. Please consult an MG Authorised Repairer immediately.'), Document(metadata={'source': 'data/mg-zs-warning-messages.html'}, page_content='Warning Message Procedure Start Stop Button Fault Indicates that the Start Stop button has detected a fault. Please consult an MG Authorised Repairer immediately. Passive Entry Fault Indicates that the passive keyless entry (PKE) function has detected a fault. Please consult an MG Authorised Repairer as soon as possible. ABS Fault Indicates that the anti-lock brake system (ABS) has failed and the ABS function is about to be disabled. Please consult an MG Authorised Repairer immediately.'), Document(metadata={'source': 'data/mg-zs-warning-messages.html'}, page_content='Warning Message Procedure Brake Fault Indicates that the brake fluid could be low or a fault has been detected in the Electronic Brake-force Distribution (EBD) system. As soon as safety permits, stop the car, switch off the engine and check the brake fluid level. Contact an MG Authorised Repairer as soon as possible. Stability Control Fault Indicates that the stability control system has detected a fault. Please consult an MG Authorised Repairer immediately. Traction Control Fault Indicates that the traction control system has detected a fault. Please consult an MG Authorised Repairer immediately.'), Document(metadata={'source': 'data/mg-zs-warning-messages.html'}, page_content='Warning Message Procedure EPB System Fault Indicates that the electronic parking brake system (EPB) has detected a fault. Please consult an MG Authorised Repairer as soon as possible. Park Brake Force Not Enough Indicates that there is an issue with the electronic parking brake, it may not be able to provide adequate clamping force. Contact an MG Authorised Repairer as soon as possible. Autohold Fault Indicates that the Autohold System has detected a fault. Please consult an MG Authorised Repairer as soon as possible. Hill Descent Control Fault Indicates that the hill descent control system has detected a fault. Please consult an MG Authorised Repairer as soon as possible.'), Document(metadata={'source': 'data/mg-zs-warning-messages.html'}, page_content='Warning Message Procedure EPS Performance Reduced Indicates that the electric power steering system has a general failure and that the steering performance has been reduced. As soon as conditions permit, safely stop the vehicle and switch off the engine. After a short while, start the engine, drive the vehicle a short distance and monitor the operation of the steering, if the message is still displayed or the steering assistance reduced please contact an MG Authorised Repairer immediately. EPS Assistance Failure Indicates that the electric power steering system has failed. Please consult an MG Authorised Repairer immediately.'), Document(metadata={'source': 'data/mg-zs-warning-messages.html'}, page_content='Warning Message Procedure Steering Angle Fault Indicates that the steering angle sensor has failed. Please consult an MG Authorised Repairer as soon as possible. Steering Angle Uncalibrated Indicates that the steering angle sensor is not calibrated. Please consult an MG Authorised Repairer as soon as possible. ESCL Fault Indicates that a fault has been detected with the Electronic Steering Column Lock (ESCL). As soon as conditions permit, safely stop the vehicle and switch off the engine. Contact an MG Authorised Repairer as soon as possible. Fuel Sensor Fault Indicates that fuel sensor has detected a fault. Please consult an MG Authorised Repairer as soon as possible.'), Document(metadata={'source': 'data/mg-zs-warning-messages.html'}, page_content='Warning Message Procedure Airbag Fault Indicates that the Airbag system has detected a fault. As soon as conditions permit, safely stop the vehicle and switch off the engine and contact an MG Authorised Repairer immediately. Front Left/Front Right/Rear Left/Rear Right Tyre Sensor Battery Low Indicates that the Tyre Pressure Monitoring system has detected that a tyre pressure sensor has a low battery. Please consult an MG Authorised Repairer as soon as possible. TPMS Fault Indicates that the tyre pressure monitoring system has detected a fault. Please consult an MG Authorised Repairer as soon as possible.\\n\\nWarning Message Procedure 12V Battery Charging System Fault Indicates that the 12V battery charging system has failed. Please consult an MG Authorised Repairer immediately. Rear Drive Assist System Fault Indicates that the rear drive assist system (RDA) has detected a fault. Please consult an MG Authorised Repairer as soon as possible.')]\n"
     ]
    }
   ],
   "source": [
    "print(chunks)"
   ]
  },
  {
   "cell_type": "code",
   "execution_count": 51,
   "id": "691bdd0c-ebd5-4e23-aa62-3eff6e4eec29",
   "metadata": {
    "executionCancelledAt": null,
    "executionTime": 52,
    "lastExecutedAt": 1739294456353,
    "lastExecutedByKernel": "02f7dfcf-2e3b-45c9-bdd9-f4b170d89f8d",
    "lastScheduledRunId": null,
    "lastSuccessfullyExecutedCode": "print([len(chunk.page_content)for chunk in chunks])",
    "outputsMetadata": {
     "0": {
      "height": 38,
      "type": "stream"
     }
    }
   },
   "outputs": [
    {
     "name": "stdout",
     "output_type": "stream",
     "text": [
      "[782, 652, 613, 491, 604, 681, 633, 677, 950]\n"
     ]
    }
   ],
   "source": [
    "print([len(chunk.page_content)for chunk in chunks])"
   ]
  },
  {
   "cell_type": "code",
   "execution_count": 52,
   "id": "7c11ff48-38d2-4484-a0e4-3dff1cf667fb",
   "metadata": {
    "executionCancelledAt": null,
    "executionTime": 102,
    "lastExecutedAt": 1739294456456,
    "lastExecutedByKernel": "02f7dfcf-2e3b-45c9-bdd9-f4b170d89f8d",
    "lastScheduledRunId": null,
    "lastSuccessfullyExecutedCode": "embedding_model = OpenAIEmbeddings(\n    api_key= openai_api_key,\n    model = \"text-embedding-3-small\"\n)"
   },
   "outputs": [],
   "source": [
    "embedding_model = OpenAIEmbeddings(\n",
    "    api_key= openai_api_key,\n",
    "    model = \"text-embedding-3-small\"\n",
    ")"
   ]
  },
  {
   "cell_type": "code",
   "execution_count": 53,
   "id": "690d49bf-58b0-41e7-a054-2a3289e2177d",
   "metadata": {
    "executionCancelledAt": null,
    "executionTime": 292,
    "lastExecutedAt": 1739294456749,
    "lastExecutedByKernel": "02f7dfcf-2e3b-45c9-bdd9-f4b170d89f8d",
    "lastScheduledRunId": null,
    "lastSuccessfullyExecutedCode": "vector_store = Chroma.from_documents(\n    documents= chunks,\n    embedding= embedding_model\n)"
   },
   "outputs": [],
   "source": [
    "vector_store = Chroma.from_documents(\n",
    "    documents= chunks,\n",
    "    embedding= embedding_model\n",
    ")"
   ]
  },
  {
   "cell_type": "code",
   "execution_count": 54,
   "id": "48e238c1-28fe-4422-9f0e-79927b256e41",
   "metadata": {
    "executionCancelledAt": null,
    "executionTime": 47,
    "lastExecutedAt": 1739294456797,
    "lastExecutedByKernel": "02f7dfcf-2e3b-45c9-bdd9-f4b170d89f8d",
    "lastScheduledRunId": null,
    "lastSuccessfullyExecutedCode": "retriever = vector_store.as_retriever()"
   },
   "outputs": [],
   "source": [
    "retriever = vector_store.as_retriever()"
   ]
  },
  {
   "cell_type": "code",
   "execution_count": 55,
   "id": "d74f18ff-47dc-4b78-91c2-ce4f13e96786",
   "metadata": {
    "executionCancelledAt": null,
    "executionTime": 54,
    "lastExecutedAt": 1739294456853,
    "lastExecutedByKernel": "02f7dfcf-2e3b-45c9-bdd9-f4b170d89f8d",
    "lastScheduledRunId": null,
    "lastSuccessfullyExecutedCode": "prompt = ChatPromptTemplate.from_template(\"\"\" \nUse the following pieces of context to answer the question at the end. If you don't know the answer, say that you don't know. \nContext: {context} \nQuestion: {question}\nAnswer:\n\"\"\"\n)"
   },
   "outputs": [],
   "source": [
    "prompt = ChatPromptTemplate.from_template(\"\"\" \n",
    "Use the following pieces of context to answer the question at the end. If you don't know the answer, say that you don't know. \n",
    "Context: {context} \n",
    "Question: {question}\n",
    "Answer:\n",
    "\"\"\"\n",
    ")"
   ]
  },
  {
   "cell_type": "code",
   "execution_count": 56,
   "id": "c285d79a-faa2-43a6-a0bb-b76932cab582",
   "metadata": {
    "executionCancelledAt": null,
    "executionTime": 95,
    "lastExecutedAt": 1739294456949,
    "lastExecutedByKernel": "02f7dfcf-2e3b-45c9-bdd9-f4b170d89f8d",
    "lastScheduledRunId": null,
    "lastSuccessfullyExecutedCode": "llm = ChatOpenAI(model = \"gpt-4o-mini\", api_key=openai_api_key, temperature=0)"
   },
   "outputs": [],
   "source": [
    "llm = ChatOpenAI(model = \"gpt-4o-mini\", api_key=openai_api_key, temperature=0)"
   ]
  },
  {
   "cell_type": "code",
   "execution_count": 57,
   "id": "f1f58baa-8a84-4960-8b92-bcb747817a51",
   "metadata": {
    "executionCancelledAt": null,
    "executionTime": 51,
    "lastExecutedAt": 1739294457001,
    "lastExecutedByKernel": "02f7dfcf-2e3b-45c9-bdd9-f4b170d89f8d",
    "lastScheduledRunId": null,
    "lastSuccessfullyExecutedCode": "chain = (\n    {\"context\": retriever, \"question\": RunnablePassthrough()}\n    | prompt\n    | llm\n)"
   },
   "outputs": [],
   "source": [
    "chain = (\n",
    "    {\"context\": retriever, \"question\": RunnablePassthrough()}\n",
    "    | prompt\n",
    "    | llm\n",
    ")"
   ]
  },
  {
   "cell_type": "code",
   "execution_count": 58,
   "id": "0cd96af6-5323-46a9-9061-6cb0702d6a34",
   "metadata": {
    "executionCancelledAt": null,
    "executionTime": 46,
    "lastExecutedAt": 1739294457049,
    "lastExecutedByKernel": "02f7dfcf-2e3b-45c9-bdd9-f4b170d89f8d",
    "lastScheduledRunId": null,
    "lastSuccessfullyExecutedCode": "query = \"The Gasoline Particular Filter Full warning has appeared. What does this mean and what should I do about it?\"\n"
   },
   "outputs": [],
   "source": [
    "query = \"The Gasoline Particular Filter Full warning has appeared. What does this mean and what should I do about it?\"\n"
   ]
  },
  {
   "cell_type": "code",
   "execution_count": 59,
   "id": "ee62ee5d-a760-4d9c-8b30-9ca27ad2b08a",
   "metadata": {
    "executionCancelledAt": null,
    "executionTime": 1355,
    "lastExecutedAt": 1739294458405,
    "lastExecutedByKernel": "02f7dfcf-2e3b-45c9-bdd9-f4b170d89f8d",
    "lastScheduledRunId": null,
    "lastSuccessfullyExecutedCode": "answer = chain.invoke(query).content\nprint(answer)",
    "outputsMetadata": {
     "0": {
      "height": 80,
      "type": "stream"
     }
    }
   },
   "outputs": [
    {
     "name": "stdout",
     "output_type": "stream",
     "text": [
      "The Gasoline Particular Filter Full warning indicates that the gasoline particular filter is full. You should consult an MG Authorised Repairer as soon as possible to address this issue.\n"
     ]
    }
   ],
   "source": [
    "answer = chain.invoke(query).content\n",
    "print(answer)"
   ]
  }
 ],
 "metadata": {
  "colab": {
   "name": "Welcome to DataCamp Workspaces.ipynb",
   "provenance": []
  },
  "kernelspec": {
   "display_name": "Python 3 (ipykernel)",
   "language": "python",
   "name": "python3"
  },
  "language_info": {
   "codemirror_mode": {
    "name": "ipython",
    "version": 3
   },
   "file_extension": ".py",
   "mimetype": "text/x-python",
   "name": "python",
   "nbconvert_exporter": "python",
   "pygments_lexer": "ipython3",
   "version": "3.10.12"
  }
 },
 "nbformat": 4,
 "nbformat_minor": 5
}
